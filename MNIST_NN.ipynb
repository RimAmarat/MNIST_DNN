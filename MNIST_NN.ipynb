{
  "cells": [
    {
      "cell_type": "markdown",
      "metadata": {
        "id": "view-in-github",
        "colab_type": "text"
      },
      "source": [
        "<a href=\"https://colab.research.google.com/github/RimAmarat/MNIST_DNN/blob/main/MNIST_NN.ipynb\" target=\"_parent\"><img src=\"https://colab.research.google.com/assets/colab-badge.svg\" alt=\"Open In Colab\"/></a>"
      ]
    },
    {
      "cell_type": "code",
      "execution_count": null,
      "metadata": {
        "pycharm": {
          "name": "#%%\n"
        },
        "id": "IQxFGl2xWYuQ"
      },
      "outputs": [],
      "source": [
        "import torch\n",
        "from torchvision import datasets, transforms\n",
        "import torch.nn as nn\n",
        "import torch.nn.functional as F\n",
        "import torch.optim as optim\n",
        "import matplotlib.pyplot as plt\n",
        "import numpy as np"
      ]
    },
    {
      "cell_type": "code",
      "execution_count": null,
      "metadata": {
        "pycharm": {
          "name": "#%%\n"
        },
        "id": "E4Izx1t0WYuS"
      },
      "outputs": [],
      "source": [
        "from tabulate import tabulate"
      ]
    },
    {
      "cell_type": "markdown",
      "metadata": {
        "pycharm": {
          "name": "#%% md\n"
        },
        "id": "uJN-mcYWWYuS"
      },
      "source": [
        "#### Loading the data"
      ]
    },
    {
      "cell_type": "code",
      "execution_count": null,
      "metadata": {
        "pycharm": {
          "name": "#%%\n"
        },
        "colab": {
          "base_uri": "https://localhost:8080/"
        },
        "id": "rqcUfz5qWYuU",
        "outputId": "2caf5a11-4010-45d3-99b3-5a44f2aa767f"
      },
      "outputs": [
        {
          "output_type": "stream",
          "name": "stderr",
          "text": [
            "100%|██████████| 9.91M/9.91M [00:00<00:00, 17.8MB/s]\n",
            "100%|██████████| 28.9k/28.9k [00:00<00:00, 493kB/s]\n",
            "100%|██████████| 1.65M/1.65M [00:00<00:00, 3.89MB/s]\n",
            "100%|██████████| 4.54k/4.54k [00:00<00:00, 5.06MB/s]\n"
          ]
        }
      ],
      "source": [
        "training = datasets.MNIST(root = './data',train=True,download=True,\n",
        "                         transform = transforms.Compose([transforms.ToTensor()]))\n",
        "\n",
        "testing = datasets.MNIST(root = './data',train=False,download=True,\n",
        "                         transform = transforms.Compose([transforms.ToTensor()]))\n",
        "\n",
        "# Getting the training and test set as tensors for our neural network\n",
        "\n",
        "train_set = torch.utils.data.DataLoader(training,\n",
        "                                         batch_size=10,\n",
        "                                        shuffle=True)\n",
        "test_set = torch.utils.data.DataLoader(testing,\n",
        "                                         batch_size=10,\n",
        "                                        shuffle=True)"
      ]
    },
    {
      "cell_type": "code",
      "execution_count": null,
      "metadata": {
        "colab": {
          "base_uri": "https://localhost:8080/",
          "height": 144
        },
        "id": "nE4_MmEaWYuU",
        "outputId": "0cf7f9e1-75d4-46da-cc4a-56b4f37124d9"
      },
      "outputs": [
        {
          "output_type": "error",
          "ename": "AttributeError",
          "evalue": "'MNIST' object has no attribute 'head'",
          "traceback": [
            "\u001b[0;31m---------------------------------------------------------------------------\u001b[0m",
            "\u001b[0;31mAttributeError\u001b[0m                            Traceback (most recent call last)",
            "\u001b[0;32m<ipython-input-7-d2fab2617a0f>\u001b[0m in \u001b[0;36m<cell line: 0>\u001b[0;34m()\u001b[0m\n\u001b[0;32m----> 1\u001b[0;31m \u001b[0mtraining\u001b[0m\u001b[0;34m.\u001b[0m\u001b[0mhead\u001b[0m\u001b[0;34m(\u001b[0m\u001b[0;34m)\u001b[0m\u001b[0;34m\u001b[0m\u001b[0;34m\u001b[0m\u001b[0m\n\u001b[0m",
            "\u001b[0;31mAttributeError\u001b[0m: 'MNIST' object has no attribute 'head'"
          ]
        }
      ],
      "source": [
        "training.head()"
      ]
    },
    {
      "cell_type": "markdown",
      "metadata": {
        "pycharm": {
          "name": "#%% md\n"
        },
        "id": "L8EAtOi6WYuU"
      },
      "source": [
        "#### Creating the neural network\n",
        "2 hidden layers of 64 nodes"
      ]
    },
    {
      "cell_type": "code",
      "execution_count": null,
      "metadata": {
        "pycharm": {
          "name": "#%%\n"
        },
        "id": "_cQ9cO4sWYuU"
      },
      "outputs": [],
      "source": [
        "class Network(nn.Module):\n",
        "    def __init__(self):\n",
        "        super().__init__()\n",
        "        # 28 x 28 = 784\n",
        "        self.input_layer = nn.Linear(784,64)\n",
        "        self.hidden1 = nn.Linear(64,64)\n",
        "        self.hidden2 = nn.Linear(64,64)\n",
        "        self.output_layer = nn.Linear(64,10)\n",
        "\n",
        "    def forward(self, data):\n",
        "        data = F.relu(self.input_layer(data))\n",
        "        data = F.relu(self.hidden1(data))\n",
        "        data = F.relu(self.hidden2(data))\n",
        "        data = self.output_layer(data)\n",
        "\n",
        "\n",
        "        return F.log_softmax(data, dim=1)"
      ]
    },
    {
      "cell_type": "code",
      "execution_count": null,
      "metadata": {
        "pycharm": {
          "name": "#%%\n"
        },
        "id": "5r1dqwWPWYuV"
      },
      "outputs": [],
      "source": [
        "network = Network()\n",
        "\n",
        "learn_rate = optim.Adam(network.parameters(), lr=0.009)\n",
        "epochs = 10"
      ]
    },
    {
      "cell_type": "code",
      "execution_count": null,
      "metadata": {
        "pycharm": {
          "name": "#%%\n"
        },
        "colab": {
          "base_uri": "https://localhost:8080/"
        },
        "id": "e-drlaoJWYuV",
        "outputId": "2836a7fe-82a6-4ed0-ccfe-c31fc830caa4"
      },
      "outputs": [
        {
          "output_type": "stream",
          "name": "stdout",
          "text": [
            "iteration 0 -> 1.7509329\n",
            "iteration 1 -> 0.27962953\n",
            "iteration 2 -> 0.05526579\n",
            "iteration 3 -> 0.1307676\n",
            "iteration 4 -> 0.08249007\n",
            "iteration 5 -> 0.0059367204\n",
            "iteration 6 -> 0.01887448\n",
            "iteration 7 -> 0.0021791006\n",
            "iteration 8 -> 0.035174157\n",
            "iteration 9 -> 0.00023970744\n",
            "╒═════════════╤═════════════╕\n",
            "│   Iteration │        Loss │\n",
            "╞═════════════╪═════════════╡\n",
            "│           0 │ 1.75093     │\n",
            "├─────────────┼─────────────┤\n",
            "│           1 │ 0.27963     │\n",
            "├─────────────┼─────────────┤\n",
            "│           2 │ 0.0552658   │\n",
            "├─────────────┼─────────────┤\n",
            "│           3 │ 0.130768    │\n",
            "├─────────────┼─────────────┤\n",
            "│           4 │ 0.0824901   │\n",
            "├─────────────┼─────────────┤\n",
            "│           5 │ 0.00593672  │\n",
            "├─────────────┼─────────────┤\n",
            "│           6 │ 0.0188745   │\n",
            "├─────────────┼─────────────┤\n",
            "│           7 │ 0.0021791   │\n",
            "├─────────────┼─────────────┤\n",
            "│           8 │ 0.0351742   │\n",
            "├─────────────┼─────────────┤\n",
            "│           9 │ 0.000239707 │\n",
            "╘═════════════╧═════════════╛\n"
          ]
        }
      ],
      "source": [
        "loss_table = [['Iteration','Loss']]\n",
        "for i in range(epochs):\n",
        "    for data in train_set:\n",
        "        image, output = data\n",
        "        network.zero_grad()\n",
        "        # Resetting the netword's gradient\n",
        "        # with that we ignore all the loss done previously\n",
        "        result = network(image.view(-1,784))\n",
        "        loss = F.nll_loss(result, output)\n",
        "        loss.backward()\n",
        "        learn_rate.step()\n",
        "    loss_table.append([i,loss.detach().numpy()])\n",
        "    print(\"iteration\",i,\"->\",loss.detach().numpy())\n",
        "\n",
        "print(tabulate(loss_table, headers=\"firstrow\", tablefmt=\"fancy_grid\"))"
      ]
    },
    {
      "cell_type": "markdown",
      "metadata": {
        "pycharm": {
          "name": "#%% md\n"
        },
        "id": "kp-TWPTzWYuW"
      },
      "source": [
        "#### Evaluation"
      ]
    },
    {
      "cell_type": "code",
      "execution_count": null,
      "metadata": {
        "pycharm": {
          "name": "#%%\n"
        },
        "colab": {
          "base_uri": "https://localhost:8080/"
        },
        "id": "GJ98kMOBWYuX",
        "outputId": "0dde31ff-d788-47d4-f498-539b38927f62"
      },
      "outputs": [
        {
          "output_type": "stream",
          "name": "stdout",
          "text": [
            "accuracy  0.9536\n"
          ]
        }
      ],
      "source": [
        "network.eval()\n",
        "correct_pred = 0\n",
        "incorrect_pred = 0\n",
        "total = 0\n",
        "with torch.no_grad():\n",
        "    # keeps us from using backprop\n",
        "    # speeds up computation\n",
        "    for data in test_set:\n",
        "        image, output = data\n",
        "        result = network(image.view(-1,784))\n",
        "        for index,tensor_val in enumerate(result):\n",
        "            total+=1\n",
        "            if torch.argmax(tensor_val) == output[index]:\n",
        "                correct_pred+=1\n",
        "            else:\n",
        "                incorrect_pred+=1\n",
        "\n",
        "accuracy = correct_pred / total\n",
        "print(\"accuracy \",accuracy)"
      ]
    },
    {
      "cell_type": "code",
      "execution_count": null,
      "metadata": {
        "pycharm": {
          "name": "#%%\n"
        },
        "id": "pijEfUTKWYuX"
      },
      "outputs": [],
      "source": []
    },
    {
      "cell_type": "code",
      "source": [],
      "metadata": {
        "id": "NG-LgjthkT1E"
      },
      "execution_count": null,
      "outputs": []
    }
  ],
  "metadata": {
    "kernelspec": {
      "display_name": "Python 3 (ipykernel)",
      "language": "python",
      "name": "python3"
    },
    "language_info": {
      "codemirror_mode": {
        "name": "ipython",
        "version": 3
      },
      "file_extension": ".py",
      "mimetype": "text/x-python",
      "name": "python",
      "nbconvert_exporter": "python",
      "pygments_lexer": "ipython3",
      "version": "3.8.10"
    },
    "colab": {
      "provenance": [],
      "include_colab_link": true
    }
  },
  "nbformat": 4,
  "nbformat_minor": 0
}